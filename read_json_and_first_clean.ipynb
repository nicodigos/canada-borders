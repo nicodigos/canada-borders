{
 "cells": [
  {
   "cell_type": "code",
   "execution_count": 2,
   "id": "50a9982d-50f7-4678-91f4-d3ffa64a65ac",
   "metadata": {},
   "outputs": [],
   "source": [
    "import pandas as pd\n",
    "import json"
   ]
  },
  {
   "cell_type": "code",
   "execution_count": 3,
   "id": "bdc3462e-f8fb-4f52-a08e-19eadd66e30d",
   "metadata": {},
   "outputs": [],
   "source": [
    "with open('data/gadm41_CAN_0.json', 'r') as file:\n",
    "    data = json.load(file)"
   ]
  },
  {
   "cell_type": "code",
   "execution_count": 4,
   "id": "15285c0f-0cd2-44b5-a11b-3aba9b3e2b82",
   "metadata": {},
   "outputs": [
    {
     "data": {
      "text/plain": [
       "dict_keys(['type', 'name', 'crs', 'features'])"
      ]
     },
     "execution_count": 4,
     "metadata": {},
     "output_type": "execute_result"
    }
   ],
   "source": [
    "data.keys()"
   ]
  },
  {
   "cell_type": "code",
   "execution_count": 5,
   "id": "2c52e067-2edf-46d9-80e0-3542fdfdb807",
   "metadata": {},
   "outputs": [],
   "source": [
    "coordinates = data['features'][0]['geometry']['coordinates']"
   ]
  },
  {
   "cell_type": "code",
   "execution_count": 6,
   "id": "dd1637ed-1267-4241-87fe-78553885f2cc",
   "metadata": {},
   "outputs": [],
   "source": [
    "list_lens = []\n",
    "for i in coordinates:\n",
    "    list_lens.append(len(i))"
   ]
  },
  {
   "cell_type": "code",
   "execution_count": 7,
   "id": "3bfa1284-da4d-46e6-8553-f3aad86c9b72",
   "metadata": {},
   "outputs": [
    {
     "data": {
      "text/plain": [
       "0    1\n",
       "dtype: int64"
      ]
     },
     "execution_count": 7,
     "metadata": {},
     "output_type": "execute_result"
    }
   ],
   "source": [
    "(pd.DataFrame(list_lens) != 1).sum()"
   ]
  },
  {
   "cell_type": "code",
   "execution_count": 8,
   "id": "61eb0cbd-5c93-4d8d-b28b-fc83c144a74c",
   "metadata": {},
   "outputs": [],
   "source": [
    "coordinates[0][0] = coordinates[0][0] + coordinates[0][1] + coordinates[0][2]"
   ]
  },
  {
   "cell_type": "code",
   "execution_count": 9,
   "id": "ca5821a6-7506-4d8e-8d51-7c1cccd844e8",
   "metadata": {},
   "outputs": [
    {
     "data": {
      "text/plain": [
       "118846"
      ]
     },
     "execution_count": 9,
     "metadata": {},
     "output_type": "execute_result"
    }
   ],
   "source": [
    "len(coordinates[0][0] + coordinates[0][1] + coordinates[0][2])"
   ]
  },
  {
   "cell_type": "code",
   "execution_count": 10,
   "id": "81962ff2-785e-4707-9641-b80a361044ad",
   "metadata": {},
   "outputs": [
    {
     "data": {
      "text/plain": [
       "[[-82.71556564885495, 55.14190229007634],\n",
       " [-82.7133, 55.1417],\n",
       " [-82.7111, 55.1422],\n",
       " [-82.71556564885495, 55.14190229007634]]"
      ]
     },
     "execution_count": 10,
     "metadata": {},
     "output_type": "execute_result"
    }
   ],
   "source": [
    "coordinates[0].pop()"
   ]
  },
  {
   "cell_type": "code",
   "execution_count": 11,
   "id": "6a2936d1-837a-407b-ba2d-ca00f59ed668",
   "metadata": {},
   "outputs": [
    {
     "data": {
      "text/plain": [
       "[[-82.7156, 55.14190535714286],\n",
       " [-82.7156, 55.1419],\n",
       " [-82.71556564885495, 55.14190229007634],\n",
       " [-82.7156, 55.14190535714286]]"
      ]
     },
     "execution_count": 11,
     "metadata": {},
     "output_type": "execute_result"
    }
   ],
   "source": [
    "coordinates[0].pop()"
   ]
  },
  {
   "cell_type": "code",
   "execution_count": 12,
   "id": "7b9e91a7-68a1-4350-a38c-688c2a32a66d",
   "metadata": {},
   "outputs": [
    {
     "data": {
      "text/plain": [
       "[[-53.4808, 49.2683],\n",
       " [-53.4884, 49.2662],\n",
       " [-53.4908, 49.2674],\n",
       " [-53.4937, 49.2664],\n",
       " [-53.4902, 49.2727],\n",
       " [-53.4851, 49.2757],\n",
       " [-53.4792, 49.2742],\n",
       " [-53.4815, 49.271],\n",
       " [-53.4808, 49.2683]]"
      ]
     },
     "execution_count": 12,
     "metadata": {},
     "output_type": "execute_result"
    }
   ],
   "source": [
    "coordinates[1][0]"
   ]
  },
  {
   "cell_type": "code",
   "execution_count": 13,
   "id": "9f8dd1d3-d22f-4309-89ea-b77b96518ea8",
   "metadata": {},
   "outputs": [],
   "source": [
    "final_coordinates = []\n",
    "for i in coordinates:\n",
    "    final_coordinates += i[0]\n",
    "    "
   ]
  },
  {
   "cell_type": "code",
   "execution_count": 14,
   "id": "2c0b4a54-0a6e-488e-a341-37a5caf0ed86",
   "metadata": {},
   "outputs": [
    {
     "data": {
      "text/plain": [
       "24483"
      ]
     },
     "execution_count": 14,
     "metadata": {},
     "output_type": "execute_result"
    }
   ],
   "source": [
    "len(coordinates)"
   ]
  },
  {
   "cell_type": "code",
   "execution_count": 15,
   "id": "c00f9158-0ea3-4cfa-891a-30317903a22c",
   "metadata": {},
   "outputs": [
    {
     "data": {
      "text/plain": [
       "659536"
      ]
     },
     "execution_count": 15,
     "metadata": {},
     "output_type": "execute_result"
    }
   ],
   "source": [
    "len(final_coordinates)"
   ]
  },
  {
   "cell_type": "code",
   "execution_count": 16,
   "id": "140db4db-02cd-423d-9786-ba85120701a6",
   "metadata": {},
   "outputs": [],
   "source": [
    "pd.DataFrame(final_coordinates).rename(columns={0:\"lon\", 1:\"lat\"}).to_csv('borders.csv', index=False)"
   ]
  },
  {
   "cell_type": "code",
   "execution_count": null,
   "id": "67646d86-2552-4e3c-b0a1-e8a715c83f7d",
   "metadata": {},
   "outputs": [],
   "source": []
  }
 ],
 "metadata": {
  "kernelspec": {
   "display_name": "Python 3 (ipykernel)",
   "language": "python",
   "name": "python3"
  },
  "language_info": {
   "codemirror_mode": {
    "name": "ipython",
    "version": 3
   },
   "file_extension": ".py",
   "mimetype": "text/x-python",
   "name": "python",
   "nbconvert_exporter": "python",
   "pygments_lexer": "ipython3",
   "version": "3.11.9"
  }
 },
 "nbformat": 4,
 "nbformat_minor": 5
}
